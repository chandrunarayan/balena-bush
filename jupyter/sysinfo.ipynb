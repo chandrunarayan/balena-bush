{
 "cells": [
  {
   "cell_type": "code",
   "execution_count": 1,
   "id": "4301f173-fae4-48c1-908b-4b8554433cbd",
   "metadata": {},
   "outputs": [
    {
     "name": "stdout",
     "output_type": "stream",
     "text": [
      "CPU Info–>  2.2%\n",
      "Memory Info–> 1555.0MB free / 1900.4MB total ( 18.2% )\n",
      "Disk Info–> 11.4GB free / 13.8GB total ( 12.6% )\n",
      "The CPU usage is:  0.4\n"
     ]
    }
   ],
   "source": [
    "import psutil\n",
    "\n",
    "# Get cpu statistics\n",
    "cpu = str(psutil.cpu_percent()) + '%'\n",
    "\n",
    "# Calculate memory information\n",
    "memory = psutil.virtual_memory()\n",
    "# Convert Bytes to MB (Bytes -> KB -> MB)\n",
    "available = round(memory.available/1024.0/1024.0,1)\n",
    "total = round(memory.total/1024.0/1024.0,1)\n",
    "mem_info = str(available) + 'MB free / ' + str(total) + 'MB total ( ' + str(memory.percent) + '% )'\n",
    "\n",
    "# Calculate disk information\n",
    "disk = psutil.disk_usage('/')\n",
    "# Convert Bytes to GB (Bytes -> KB -> MB -> GB)\n",
    "free = round(disk.free/1024.0/1024.0/1024.0,1)\n",
    "total = round(disk.total/1024.0/1024.0/1024.0,1)\n",
    "disk_info = str(free) + 'GB free / ' + str(total) + 'GB total ( ' + str(disk.percent) + '% )'\n",
    "\n",
    "print(\"CPU Info–> \", cpu)\n",
    "print(\"Memory Info–>\", mem_info)\n",
    "print(\"Disk Info–>\", disk_info)\n",
    "  \n",
    "# Calling psutil.cpu_precent() for 4 seconds \n",
    "print('The CPU usage is: ', psutil.cpu_percent(4)) \n"
   ]
  },
  {
   "cell_type": "code",
   "execution_count": 3,
   "id": "98d6d9de-5b0f-4f40-9d8c-39f3e0ab979c",
   "metadata": {},
   "outputs": [
    {
     "ename": "ModuleNotFoundError",
     "evalue": "No module named 'gpiozero'",
     "output_type": "error",
     "traceback": [
      "\u001b[0;31m---------------------------------------------------------------------------\u001b[0m",
      "\u001b[0;31mModuleNotFoundError\u001b[0m                       Traceback (most recent call last)",
      "Cell \u001b[0;32mIn[3], line 1\u001b[0m\n\u001b[0;32m----> 1\u001b[0m \u001b[38;5;28;01mimport\u001b[39;00m \u001b[38;5;21;01mgpiozero\u001b[39;00m \u001b[38;5;28;01mas\u001b[39;00m \u001b[38;5;21;01mgpz\u001b[39;00m\n\u001b[1;32m      3\u001b[0m cpu \u001b[38;5;241m=\u001b[39m gpz\u001b[38;5;241m.\u001b[39mCPUTemperature()\n\u001b[1;32m      4\u001b[0m cpu_temp \u001b[38;5;241m=\u001b[39m cpu\u001b[38;5;241m.\u001b[39mtemperature\n",
      "\u001b[0;31mModuleNotFoundError\u001b[0m: No module named 'gpiozero'"
     ]
    }
   ],
   "source": [
    "import gpiozero as gpz\n",
    "\n",
    "cpu = gpz.CPUTemperature()\n",
    "cpu_temp = cpu.temperature\n",
    "print(cpu_temp)"
   ]
  },
  {
   "cell_type": "code",
   "execution_count": 5,
   "id": "54fe4842-001b-4438-b794-8fc89fb77269",
   "metadata": {},
   "outputs": [
    {
     "name": "stdout",
     "output_type": "stream",
     "text": [
      "\n"
     ]
    },
    {
     "name": "stderr",
     "output_type": "stream",
     "text": [
      "VCHI initialization failed\n"
     ]
    }
   ],
   "source": [
    "import os\n",
    "import time\n",
    " \n",
    "def temperature_of_raspberry_pi():\n",
    "    cpu_temp = os.popen(\"vcgencmd measure_temp\").readline()\n",
    "    return cpu_temp.replace(\"temp=\", \"\")\n",
    "\n",
    "print(temperature_of_raspberry_pi())\n",
    "\n",
    "#while True:\n",
    "#    print(temperature_of_raspberry_pi())\n",
    "#    time.sleep(1)"
   ]
  },
  {
   "cell_type": "code",
   "execution_count": null,
   "id": "46f19e7a-114d-4c14-aae5-1a5436659290",
   "metadata": {},
   "outputs": [],
   "source": []
  }
 ],
 "metadata": {
  "kernelspec": {
   "display_name": "Python 3 (ipykernel)",
   "language": "python",
   "name": "python3"
  },
  "language_info": {
   "codemirror_mode": {
    "name": "ipython",
    "version": 3
   },
   "file_extension": ".py",
   "mimetype": "text/x-python",
   "name": "python",
   "nbconvert_exporter": "python",
   "pygments_lexer": "ipython3",
   "version": "3.11.1"
  }
 },
 "nbformat": 4,
 "nbformat_minor": 5
}
